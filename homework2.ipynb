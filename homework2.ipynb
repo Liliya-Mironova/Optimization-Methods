{
  "nbformat": 4,
  "nbformat_minor": 0,
  "metadata": {
    "colab": {
      "name": "Mironova_hw2.ipynb",
      "provenance": [],
      "collapsed_sections": []
    },
    "kernelspec": {
      "name": "python3",
      "display_name": "Python 3"
    }
  },
  "cells": [
    {
      "cell_type": "markdown",
      "metadata": {
        "id": "4vaNP0B4AeNK",
        "colab_type": "text"
      },
      "source": [
        "###Question 9"
      ]
    },
    {
      "cell_type": "code",
      "metadata": {
        "id": "h6MUoEFzmbFr",
        "colab_type": "code",
        "colab": {}
      },
      "source": [
        "import numpy as np\n",
        "import matplotlib.pyplot as plt\n",
        "\n",
        "import scipy\n",
        "from scipy.optimize import minimize_scalar"
      ],
      "execution_count": 0,
      "outputs": []
    },
    {
      "cell_type": "code",
      "metadata": {
        "id": "-XhEhtxrlTB7",
        "colab_type": "code",
        "colab": {}
      },
      "source": [
        "A = np.array([[2, 1], [1, 20]])\n",
        "b = np.array([5, 22])\n",
        "fu = lambda u: 0.5*u@A@u.T-b@u.T\n",
        "df = lambda u : u@A-b"
      ],
      "execution_count": 0,
      "outputs": []
    },
    {
      "cell_type": "code",
      "metadata": {
        "id": "s9leW8eamu0M",
        "colab_type": "code",
        "colab": {}
      },
      "source": [
        "def f_point(point):\n",
        "    x, y = point.T\n",
        "    return x**2 + x*y + 10*y**2 - 22*y - 5*x"
      ],
      "execution_count": 0,
      "outputs": []
    },
    {
      "cell_type": "code",
      "metadata": {
        "id": "pvg_d4NPmd6c",
        "colab_type": "code",
        "colab": {}
      },
      "source": [
        "def plot_function(func, N=100, lims=(-1, 10.5), figsize=(8, 8)):\n",
        "    xlist = np.linspace(*lims, N+1)\n",
        "    ylist = np.linspace(*lims, N+1)\n",
        "    x, y = np.meshgrid(xlist, ylist)\n",
        "    plt.figure(figsize=figsize)\n",
        "    xy = np.hstack((x.reshape(-1, 1), y.reshape(-1, 1)))\n",
        "    f1 = func(xy).reshape(N+1, N+1)\n",
        "    plt.contourf(x, y, f1)\n",
        "    plt.title(r'$f = x^2 + xy + 10y^2 - 22y - 5x$')\n",
        "    plt.xlabel(r'$x$')\n",
        "    plt.ylabel(r'$y$')\n",
        "    plt.grid(True)"
      ],
      "execution_count": 0,
      "outputs": []
    },
    {
      "cell_type": "code",
      "metadata": {
        "id": "bdvhpaiNlPIl",
        "colab_type": "code",
        "colab": {}
      },
      "source": [
        "def steepest_descent(x0, y0, iters, eps=1e-4):\n",
        "    plot_function(f_point)\n",
        "\n",
        "    u = np.empty((iters, 2))\n",
        "    df_t = np.empty((iters-1, 2))\n",
        "    tau_t = np.empty(iters-1)\n",
        "    u[0] = x0, y0\n",
        "    for t in range(1, iters):\n",
        "        df_t[t-1] = df(u[t-1])\n",
        "        if np.linalg.norm(df_t[t-1]) < eps:\n",
        "            break\n",
        "\n",
        "        tau_t[t-1] = (df_t[t-1]@df_t[t-1]) / (A@df_t[t-1]@df_t[t-1])\n",
        "        u[t] = u[t-1] - tau_t[t-1]*df_t[t-1]\n",
        "\n",
        "    print ('Starting point: x0={}'.format([x0, y0]))\n",
        "    print ('Eps: {}\\n'.format(eps))\n",
        "\n",
        "    scale = 5\n",
        "    plt.plot(u[:t, 0], u[:t, 1], \"ro\")\n",
        "    for tt in range(t):\n",
        "        plt.arrow(*u[tt], *(-df_t[tt]*tau_t[tt]/scale), head_width=0.03, ec=\"r\", fc=\"w\")\n",
        "        print (\"x,y={} f={}\".format(u[tt], fu(u[tt])))\n",
        "\n",
        "    print ('\\nAppr.min: {} at x*={}'.format(fu(u[t-1]), u[t-1]))\n",
        "    print ('Found after {} iterations'.format(t))\n",
        "    return u[t-1], fu(u[t-1]), t"
      ],
      "execution_count": 0,
      "outputs": []
    },
    {
      "cell_type": "code",
      "metadata": {
        "id": "WtoYt2BDlPg9",
        "colab_type": "code",
        "outputId": "4d152502-7b99-4998-b036-b9ecc9b09833",
        "colab": {
          "base_uri": "https://localhost:8080/",
          "height": 728
        }
      },
      "source": [
        "steepest_descent(1, 10, 100);"
      ],
      "execution_count": 0,
      "outputs": [
        {
          "output_type": "stream",
          "text": [
            "Starting point: x0=[1, 10]\n",
            "Eps: 0.0001\n",
            "\n",
            "x,y=[ 1. 10.] f=786.0\n",
            "x,y=[0.6508834  1.07258977] f=-14.225123713134728\n",
            "x,y=[1.99778694 1.01991756] f=-15.996072087489182\n",
            "x,y=[1.99701432 1.00016065] f=-15.999991307283326\n",
            "x,y=[1.9999951  1.00004408] f=-15.999999980762471\n",
            "x,y=[1.99999339 1.00000036] f=-15.999999999957428\n",
            "\n",
            "Appr.min: -15.999999999957428 at x*=[1.99999339 1.00000036]\n",
            "Found after 6 iterations\n"
          ],
          "name": "stdout"
        },
        {
          "output_type": "display_data",
          "data": {
            "image/png": "[encoded data removed]",
            "text/plain": [
              "<Figure size 576x576 with 1 Axes>"
            ]
          },
          "metadata": {
            "tags": []
          }
        }
      ]
    },
    {
      "cell_type": "code",
      "metadata": {
        "id": "-Ris_XGQlXl0",
        "colab_type": "code",
        "outputId": "b2545a81-fe31-4ec1-9ae4-5b5289a86cab",
        "colab": {
          "base_uri": "https://localhost:8080/",
          "height": 798
        }
      },
      "source": [
        "steepest_descent(10, 10, 100);"
      ],
      "execution_count": 0,
      "outputs": [
        {
          "output_type": "stream",
          "text": [
            "Starting point: x0=[10, 10]\n",
            "Eps: 0.0001\n",
            "\n",
            "x,y=[10. 10.] f=930.0\n",
            "x,y=[8.74677714 0.57576408] f=28.45653770574053\n",
            "x,y=[2.37595381 1.42294803] f=-13.910799424120679\n",
            "x,y=[2.31705957 0.98006336] f=-15.90181963617713\n",
            "x,y=[2.01766766 1.01987612] f=-15.995386089803112\n",
            "x,y=[2.01489997 0.99906309] f=-15.999783172861903\n",
            "x,y=[2.00083028 1.00093406] f=-15.999989810376494\n",
            "x,y=[2.00070021 0.99995597] f=-15.999999521146528\n",
            "x,y=[2.00003902 1.0000439 ] f=-15.999999977496653\n",
            "x,y=[2.00003291 0.99999793] f=-15.999999998942474\n",
            "\n",
            "Appr.min: -15.999999998942474 at x*=[2.00003291 0.99999793]\n",
            "Found after 10 iterations\n"
          ],
          "name": "stdout"
        },
        {
          "output_type": "display_data",
          "data": {
            "image/png": "[encoded data removed]",
            "text/plain": [
              "<Figure size 576x576 with 1 Axes>"
            ]
          },
          "metadata": {
            "tags": []
          }
        }
      ]
    },
    {
      "cell_type": "code",
      "metadata": {
        "id": "zjUL2tto-HGB",
        "colab_type": "code",
        "outputId": "27af9e2a-0b6f-47f9-a82c-30addea5a093",
        "colab": {
          "base_uri": "https://localhost:8080/",
          "height": 1000
        }
      },
      "source": [
        "steepest_descent(10, 1, 100);"
      ],
      "execution_count": 0,
      "outputs": [
        {
          "output_type": "stream",
          "text": [
            "Starting point: x0=[10, 1]\n",
            "Eps: 0.0001\n",
            "\n",
            "x,y=[10.  1.] f=48.0\n",
            "x,y=[ 7.5  -0.25] f=23.0\n",
            "x,y=[6.875 1.   ] f=7.765625\n",
            "x,y=[5.3515625  0.23828125] f=-1.517822265625\n",
            "x,y=[4.97070312 1.        ] f=-7.174922943115234\n",
            "x,y=[4.0423584  0.53582764] f=-10.62221866846085\n",
            "x,y=[3.81027222 1.        ] f=-12.722914501093332\n",
            "x,y=[3.24456215 0.71714497] f=-14.003026024103747\n",
            "x,y=[3.10313463 1.        ] f=-14.78309398343822\n",
            "x,y=[2.75840506 0.82763521] f=-15.258447896157666\n",
            "x,y=[2.67222267 1.        ] f=-15.54811668672108\n",
            "x,y=[2.46215308 0.89496521] f=-15.724633605970656\n",
            "x,y=[2.40963569 1.        ] f=-15.832198603638371\n",
            "x,y=[2.28162454 0.93599442] f=-15.897746024092129\n",
            "x,y=[2.24962175 1.        ] f=-15.937688983431144\n",
            "x,y=[2.17161495 0.9609966 ] f=-15.962029224278353\n",
            "x,y=[2.15211325 1.        ] f=-15.97686155854462\n",
            "x,y=[2.10457786 0.9762323 ] f=-15.985900012238126\n",
            "x,y=[2.09269401 1.        ] f=-15.991407819957608\n",
            "x,y=[2.06372713 0.98551656] f=-15.99476414028667\n",
            "x,y=[2.05648541 1.        ] f=-15.996809397987185\n",
            "x,y=[2.03883372 0.99117415] f=-15.99805572689844\n",
            "x,y=[2.0344208 1.       ] f=-15.998815208578733\n",
            "x,y=[2.0236643  0.99462175] f=-15.999278017727669\n",
            "x,y=[2.02097517 1.        ] f=-15.9995600420528\n",
            "x,y=[2.01442043 0.99672263] f=-15.999731900625925\n",
            "x,y=[2.01278175 1.        ] f=-15.999836626943921\n",
            "x,y=[2.00878745 0.99800285] f=-15.99990044454395\n",
            "x,y=[2.00778888 1.        ] f=-15.999939333393975\n",
            "x,y=[2.00535485 0.99878299] f=-15.999963031286953\n",
            "x,y=[2.00474635 1.        ] f=-15.999977472190487\n",
            "x,y=[2.00326311 0.99925838] f=-15.999986272116075\n",
            "x,y=[2.00289231 1.        ] f=-15.999991634570737\n",
            "x,y=[2.00198846 0.99954808] f=-15.99999490231654\n",
            "x,y=[2.0017625 1.       ] f=-15.999996893599139\n",
            "x,y=[2.00121172 0.99972461] f=-15.999998107036976\n",
            "x,y=[2.00107402 1.        ] f=-15.999998846475659\n",
            "x,y=[2.00073839 0.99983218] f=-15.999999297071106\n",
            "x,y=[2.00065448 1.        ] f=-15.999999571652701\n",
            "x,y=[2.00044996 0.99989774] f=-15.99999973897587\n",
            "x,y=[2.00039883 1.        ] f=-15.999999840938422\n",
            "x,y=[2.00027419 0.99993768] f=-15.999999903071846\n",
            "x,y=[2.00024303 1.        ] f=-15.999999940934408\n",
            "x,y=[2.00016709 0.99996203] f=-15.99999996400691\n",
            "x,y=[2.0001481 1.       ] f=-15.999999978066711\n",
            "x,y=[2.00010182 0.99997686] f=-15.9999999866344\n",
            "x,y=[2.00009025 1.        ] f=-15.99999999185534\n",
            "x,y=[2.00006205 0.9999859 ] f=-15.999999995036845\n",
            "x,y=[2.00005499 1.        ] f=-15.999999996975578\n",
            "x,y=[2.00003781 0.99999141] f=-15.99999999815699\n",
            "x,y=[2.00003351 1.        ] f=-15.99999999887692\n",
            "\n",
            "Appr.min: -15.99999999887692 at x*=[2.00003351 1.        ]\n",
            "Found after 51 iterations\n"
          ],
          "name": "stdout"
        },
        {
          "output_type": "display_data",
          "data": {
            "image/png": "[encoded data removed]",
            "text/plain": [
              "<Figure size 576x576 with 1 Axes>"
            ]
          },
          "metadata": {
            "tags": []
          }
        }
      ]
    },
    {
      "cell_type": "markdown",
      "metadata": {
        "id": "ROEyQckbAq6Q",
        "colab_type": "text"
      },
      "source": [
        "###Question 10"
      ]
    },
    {
      "cell_type": "code",
      "metadata": {
        "id": "hGbj6VI_E2Zj",
        "colab_type": "code",
        "colab": {}
      },
      "source": [
        "def f_n(point):\n",
        "  return 1/4*(point.T[0] - 1)**2 + sum([(2*point.T[i-1] - xi - 1)**2 for i, xi in enumerate(point.T[2:])])"
      ],
      "execution_count": 0,
      "outputs": []
    },
    {
      "cell_type": "code",
      "metadata": {
        "id": "4t_o8vQ4B9SA",
        "colab_type": "code",
        "colab": {}
      },
      "source": [
        "def df3(point):\n",
        "  x1, x2, x3 = point.T\n",
        "  dx1 = -1/2 + 16*x1**3 + x1*(-15/2 - 8*x2)\n",
        "  dx2 = 2 - 4*x1**2 + 16*x2**3 - 2*x2*(3 + 4*x3)\n",
        "  dx3 = 2 - 4*x2**2 + 2*x3\n",
        "  return dx1, dx2, dx3"
      ],
      "execution_count": 0,
      "outputs": []
    },
    {
      "cell_type": "code",
      "metadata": {
        "id": "zm_nh3M5uKeV",
        "colab_type": "code",
        "colab": {}
      },
      "source": [
        "def df_n(x):\n",
        "  dx1 = -1/2 + 16*x[0]**3 + x[0]*(-15/2 - 8*x[1])\n",
        "  dx2 = []\n",
        "  for i in range(1, len(x)-1):\n",
        "    dx2 += [2 - 4*x[i-1]**2 + 16*x[i]**3 - 2*x[i]*(3 + 4*x[i+1])]\n",
        "  dx3 = 2 - 4*x[-2]**2 + 2*x[-1]\n",
        "  return np.r_[dx1, dx2, dx3]"
      ],
      "execution_count": 0,
      "outputs": []
    },
    {
      "cell_type": "code",
      "metadata": {
        "id": "QV-8Lxxial0z",
        "colab_type": "code",
        "colab": {}
      },
      "source": [
        "def f_gamma(gamma, x, grad):\n",
        "  y = x - gamma * grad\n",
        "  return f_n(y)"
      ],
      "execution_count": 0,
      "outputs": []
    },
    {
      "cell_type": "code",
      "metadata": {
        "id": "ntrE-2_6AqYm",
        "colab_type": "code",
        "colab": {}
      },
      "source": [
        "def steepest_descent_n(x0, iters, eps=1e-6, log=False, is_alpha=False, alpha=0.1):\n",
        "    u = np.empty((iters, len(x0)))\n",
        "    df_t = np.empty((iters-1, len(x0)))\n",
        "    tau_t = np.empty(iters-1)\n",
        "    u[0] = x0\n",
        "    for t in range(1, iters):\n",
        "        df_t[t-1] = df_n(u[t-1])\n",
        "\n",
        "        if is_alpha:\n",
        "          tau_t[t-1] = alpha\n",
        "        else:\n",
        "          sol = minimize_scalar(f_gamma, args=(u[t-1], df_t[t-1]))\n",
        "          tau_t[t-1] = sol[\"x\"]\n",
        "        #print (tau_t[t-1], u[t-1], df_t[t-1])\n",
        "\n",
        "        u[t] = u[t-1] - tau_t[t-1]*df_t[t-1]\n",
        "        if np.linalg.norm(u[t] - u[t-1]) < eps:\n",
        "            break\n",
        "\n",
        "    print ('Starting point: x0={}'.format(x0))\n",
        "    print ('Eps: {}\\n'.format(eps))\n",
        "\n",
        "    if log:\n",
        "      for tt in range(t):\n",
        "        print (\"x,y,z={}, f={}\".format(u[tt], f_n(u[tt])))\n",
        "        \n",
        "    print ('\\nAppr.min: {} at x*={}'.format(f_n(u[t-1]), u[t-1]))\n",
        "    print ('Found after {} iterations'.format(t))\n",
        "    return u[t-1], f_n(u[t-1]), t"
      ],
      "execution_count": 0,
      "outputs": []
    },
    {
      "cell_type": "markdown",
      "metadata": {
        "id": "ZoK_Vtu30Vd9",
        "colab_type": "text"
      },
      "source": [
        "####n=3:"
      ]
    },
    {
      "cell_type": "markdown",
      "metadata": {
        "id": "PbDOWIVrNKX2",
        "colab_type": "text"
      },
      "source": [
        "####1."
      ]
    },
    {
      "cell_type": "code",
      "metadata": {
        "id": "pRPDD0k8IOsG",
        "colab_type": "code",
        "outputId": "8fd1a8c3-2920-471a-ab2d-c48146ff94b6",
        "colab": {
          "base_uri": "https://localhost:8080/",
          "height": 157
        }
      },
      "source": [
        "steepest_descent_n([-1.5, 1, 1], 3, log=True);"
      ],
      "execution_count": 0,
      "outputs": [
        {
          "output_type": "stream",
          "text": [
            "Starting point: x0=[-1.5, 1, 1]\n",
            "Eps: 1e-06\n",
            "\n",
            "x,y,z=[-1.5  1.   1. ], f=1.5625\n",
            "x,y,z=[1.  1.4 1. ], f=0.0\n",
            "\n",
            "Appr.min: 0.0 at x*=[1.  1.4 1. ]\n",
            "Found after 2 iterations\n"
          ],
          "name": "stdout"
        }
      ]
    },
    {
      "cell_type": "markdown",
      "metadata": {
        "id": "yEsu4UhyNv_S",
        "colab_type": "text"
      },
      "source": [
        "$f(x^1) < f(x^0)$"
      ]
    },
    {
      "cell_type": "markdown",
      "metadata": {
        "id": "1FSqM0U6Vo7p",
        "colab_type": "text"
      },
      "source": [
        "####2."
      ]
    },
    {
      "cell_type": "code",
      "metadata": {
        "id": "sErgP-9tNMtZ",
        "colab_type": "code",
        "outputId": "cc266a2d-de8c-4f21-ef3c-086a1ccef1e4",
        "colab": {
          "base_uri": "https://localhost:8080/",
          "height": 632
        }
      },
      "source": [
        "steepest_descent_n([-1.5, 1, 1], 20, log=True, is_alpha=True, alpha=0.1);"
      ],
      "execution_count": 0,
      "outputs": [
        {
          "output_type": "stream",
          "text": [
            "Starting point: x0=[-1.5, 1, 1]\n",
            "Eps: 1e-06\n",
            "\n",
            "x,y,z=[-1.5  1.   1. ], f=1.5625\n",
            "x,y,z=[1.625 1.5   1.   ], f=0.09765625\n",
            "x,y,z=[-2.021875 -0.94375   1.5     ], f=2.5329321289062503\n",
            "x,y,z=[11.26284487  0.13759414  1.35626563], f=26.458421417612783\n",
            "x,y,z=[-2.26493743e+03  5.09059439e+01  8.92585359e-01], f=1283618.1247527106\n",
            "x,y,z=[1.85902985e+10 1.84102474e+06 1.03708012e+03], f=8.639979991097403e+19\n",
            "x,y,z=[-1.02796677e+31  1.28255811e+20  1.35574884e+12], f=2.6417891870670305e+61\n",
            "x,y,z=[1.73802975e+93 3.88930257e+61 6.57982125e+39], f=7.551868564972467e+185\n",
            "x,y,z=[-8.40023825e+279  1.11416743e+186  6.05066981e+122], f=inf\n",
            "x,y,z=[nan nan inf], f=nan\n",
            "x,y,z=[nan nan nan], f=nan\n",
            "x,y,z=[nan nan nan], f=nan\n",
            "x,y,z=[nan nan nan], f=nan\n",
            "x,y,z=[nan nan nan], f=nan\n",
            "x,y,z=[nan nan nan], f=nan\n",
            "x,y,z=[nan nan nan], f=nan\n",
            "x,y,z=[nan nan nan], f=nan\n",
            "x,y,z=[nan nan nan], f=nan\n",
            "x,y,z=[nan nan nan], f=nan\n",
            "\n",
            "Appr.min: nan at x*=[nan nan nan]\n",
            "Found after 19 iterations\n"
          ],
          "name": "stdout"
        },
        {
          "output_type": "stream",
          "text": [
            "/usr/local/lib/python3.6/dist-packages/ipykernel_launcher.py:2: RuntimeWarning: overflow encountered in double_scalars\n",
            "  \n",
            "/usr/local/lib/python3.6/dist-packages/ipykernel_launcher.py:2: RuntimeWarning: invalid value encountered in double_scalars\n",
            "  \n",
            "/usr/local/lib/python3.6/dist-packages/ipykernel_launcher.py:5: RuntimeWarning: overflow encountered in double_scalars\n",
            "  \"\"\"\n",
            "/usr/local/lib/python3.6/dist-packages/ipykernel_launcher.py:5: RuntimeWarning: invalid value encountered in double_scalars\n",
            "  \"\"\"\n",
            "/usr/local/lib/python3.6/dist-packages/ipykernel_launcher.py:6: RuntimeWarning: overflow encountered in double_scalars\n",
            "  \n"
          ],
          "name": "stderr"
        }
      ]
    },
    {
      "cell_type": "code",
      "metadata": {
        "id": "xSXb6bA3Uhk5",
        "colab_type": "code",
        "outputId": "0384603f-e2dc-459b-fb64-8180908055a8",
        "colab": {
          "base_uri": "https://localhost:8080/",
          "height": 456
        }
      },
      "source": [
        "steepest_descent_n([-1.5, 1, 1], 10, log=True, is_alpha=True, alpha=0.5);"
      ],
      "execution_count": 0,
      "outputs": [
        {
          "output_type": "stream",
          "text": [
            "Starting point: x0=[-1.5, 1, 1]\n",
            "Eps: 1e-06\n",
            "\n",
            "x,y,z=[-1.5  1.   1. ], f=1.5625\n",
            "x,y,z=[14.125  3.5    1.   ], f=43.06640625\n",
            "x,y,z=[-22280.171875     83.03125      23.5     ], f=124113161.28082275\n",
            "x,y,z=[8.84800910e+13 9.88240789e+08 1.37873770e+04], f=1.9571816244955165e+27\n",
            "x,y,z=[-5.54149146e+42  7.93636837e+27  1.95323971e+18], f=7.677031905129934e+84\n",
            "x,y,z=[1.36135062e+129 5.74172181e+085 1.25971886e+056], f=4.633188750030314e+257\n",
            "x,y,z=[           -inf 2.19223529e+258 6.59347386e+171], f=inf\n",
            "x,y,z=[nan nan inf], f=nan\n",
            "x,y,z=[nan nan nan], f=nan\n",
            "\n",
            "Appr.min: nan at x*=[nan nan nan]\n",
            "Found after 9 iterations\n"
          ],
          "name": "stdout"
        },
        {
          "output_type": "stream",
          "text": [
            "/usr/local/lib/python3.6/dist-packages/ipykernel_launcher.py:2: RuntimeWarning: overflow encountered in double_scalars\n",
            "  \n",
            "/usr/local/lib/python3.6/dist-packages/ipykernel_launcher.py:2: RuntimeWarning: invalid value encountered in double_scalars\n",
            "  \n",
            "/usr/local/lib/python3.6/dist-packages/ipykernel_launcher.py:5: RuntimeWarning: overflow encountered in double_scalars\n",
            "  \"\"\"\n",
            "/usr/local/lib/python3.6/dist-packages/ipykernel_launcher.py:5: RuntimeWarning: invalid value encountered in double_scalars\n",
            "  \"\"\"\n",
            "/usr/local/lib/python3.6/dist-packages/ipykernel_launcher.py:6: RuntimeWarning: overflow encountered in double_scalars\n",
            "  \n"
          ],
          "name": "stderr"
        }
      ]
    },
    {
      "cell_type": "code",
      "metadata": {
        "id": "NTk3oT62UkrL",
        "colab_type": "code",
        "outputId": "fb04ac87-5dbd-4de2-9728-f0da8e59dfd2",
        "colab": {
          "base_uri": "https://localhost:8080/",
          "height": 386
        }
      },
      "source": [
        "steepest_descent_n([-1.5, 1, 1], 10, log=True, is_alpha=True, alpha=1.0);"
      ],
      "execution_count": 0,
      "outputs": [
        {
          "output_type": "stream",
          "text": [
            "Starting point: x0=[-1.5, 1, 1]\n",
            "Eps: 1e-06\n",
            "\n",
            "x,y,z=[-1.5  1.   1. ], f=1.5625\n",
            "x,y,z=[29.75  6.    1.  ], f=206.640625\n",
            "x,y,z=[-4.19608375e+05  1.72250000e+02  1.41000000e+02], f=44018026496.97266\n",
            "x,y,z=[1.18209512e+18 7.04203178e+11 1.18537250e+05], f=3.493372200728511e+35\n",
            "x,y,z=[-2.64287887e+55  1.94197830e+33  1.98360847e+24], f=1.7462021868225362e+110\n",
            "x,y,z=[2.95360056e+167 2.79392350e+111 1.50851189e+067], f=inf\n",
            "x,y,z=[           -inf             nan 3.12240341e+223], f=inf\n",
            "x,y,z=[nan nan nan], f=nan\n",
            "x,y,z=[nan nan nan], f=nan\n",
            "\n",
            "Appr.min: nan at x*=[nan nan nan]\n",
            "Found after 9 iterations\n"
          ],
          "name": "stdout"
        },
        {
          "output_type": "stream",
          "text": [
            "/usr/local/lib/python3.6/dist-packages/ipykernel_launcher.py:2: RuntimeWarning: overflow encountered in double_scalars\n",
            "  \n",
            "/usr/local/lib/python3.6/dist-packages/ipykernel_launcher.py:5: RuntimeWarning: overflow encountered in double_scalars\n",
            "  \"\"\"\n",
            "/usr/local/lib/python3.6/dist-packages/ipykernel_launcher.py:5: RuntimeWarning: invalid value encountered in double_scalars\n",
            "  \"\"\"\n"
          ],
          "name": "stderr"
        }
      ]
    },
    {
      "cell_type": "markdown",
      "metadata": {
        "id": "RrMQ56cadcNT",
        "colab_type": "text"
      },
      "source": [
        "####3. The algorithms do not converge, too big step sizes"
      ]
    },
    {
      "cell_type": "code",
      "metadata": {
        "id": "_qf7zNfGeTVt",
        "colab_type": "code",
        "outputId": "7a5d3d22-b851-403d-fc11-5432ec285466",
        "colab": {
          "base_uri": "https://localhost:8080/",
          "height": 122
        }
      },
      "source": [
        "steepest_descent_n([-1.5, 1, 1], 10000);"
      ],
      "execution_count": 0,
      "outputs": [
        {
          "output_type": "stream",
          "text": [
            "Starting point: x0=[-1.5, 1, 1]\n",
            "Eps: 1e-06\n",
            "\n",
            "\n",
            "Appr.min: 0.0 at x*=[1.  1.4 1. ]\n",
            "Found after 2 iterations\n"
          ],
          "name": "stdout"
        }
      ]
    },
    {
      "cell_type": "markdown",
      "metadata": {
        "id": "DaY04N3MeXI4",
        "colab_type": "text"
      },
      "source": [
        "####I used scipy.minimize_scalar for $\\alpha$ choosing. It took two iterations to converge."
      ]
    },
    {
      "cell_type": "markdown",
      "metadata": {
        "id": "iHnZ8f22xByu",
        "colab_type": "text"
      },
      "source": [
        "####n = 10:"
      ]
    },
    {
      "cell_type": "code",
      "metadata": {
        "id": "Gmv3nImFxXUI",
        "colab_type": "code",
        "outputId": "daea5606-fdca-4e4e-f9d8-6516568d6d38",
        "colab": {
          "base_uri": "https://localhost:8080/",
          "height": 34
        }
      },
      "source": [
        "f_n(np.r_[-1.5, 1, 1, 1, 1, 1, 1, 1, 1, 1])"
      ],
      "execution_count": 0,
      "outputs": [
        {
          "output_type": "execute_result",
          "data": {
            "text/plain": [
              "26.5625"
            ]
          },
          "metadata": {
            "tags": []
          },
          "execution_count": 19
        }
      ]
    },
    {
      "cell_type": "markdown",
      "metadata": {
        "id": "K3lQ-Y0yyPmm",
        "colab_type": "text"
      },
      "source": [
        "####1."
      ]
    },
    {
      "cell_type": "code",
      "metadata": {
        "colab_type": "code",
        "outputId": "e3074ae5-b5d8-4850-e6fc-acf2c1692f10",
        "id": "j9q7s_WmxFFJ",
        "colab": {
          "base_uri": "https://localhost:8080/",
          "height": 263
        }
      },
      "source": [
        "steepest_descent_n([-1.5, 1, 1, 1, 1, 1, 1, 1, 1, 1], 3, log=True)"
      ],
      "execution_count": 0,
      "outputs": [
        {
          "output_type": "stream",
          "text": [
            "Starting point: x0=[-1.5, 1, 1, 1, 1, 1, 1, 1, 1, 1]\n",
            "Eps: 1e-06\n",
            "\n",
            "x,y,z=[-1.5  1.   1.   1.   1.   1.   1.   1.   1.   1. ], f=26.5625\n",
            "x,y,z=[0.94118188 1.3905891  1.         1.         1.         1.\n",
            " 1.         1.         1.         1.        ], f=0.6249425604264317\n",
            "\n",
            "Appr.min: 0.6249425604264317 at x*=[0.94118188 1.3905891  1.         1.         1.         1.\n",
            " 1.         1.         1.         1.        ]\n",
            "Found after 2 iterations\n"
          ],
          "name": "stdout"
        },
        {
          "output_type": "execute_result",
          "data": {
            "text/plain": [
              "(array([0.94118188, 1.3905891 , 1.        , 1.        , 1.        ,\n",
              "        1.        , 1.        , 1.        , 1.        , 1.        ]),\n",
              " 0.6249425604264317,\n",
              " 2)"
            ]
          },
          "metadata": {
            "tags": []
          },
          "execution_count": 20
        }
      ]
    },
    {
      "cell_type": "markdown",
      "metadata": {
        "colab_type": "text",
        "id": "_EiyGOiexFFX"
      },
      "source": [
        "$f(x^1) < f(x^0)$"
      ]
    },
    {
      "cell_type": "markdown",
      "metadata": {
        "colab_type": "text",
        "id": "p7H-iS7zxFFY"
      },
      "source": [
        "####2."
      ]
    },
    {
      "cell_type": "code",
      "metadata": {
        "colab_type": "code",
        "outputId": "71c7aa4d-571b-404b-e3ef-f4bcbc8791a7",
        "id": "HG5sy8-XxFFa",
        "colab": {
          "base_uri": "https://localhost:8080/",
          "height": 948
        }
      },
      "source": [
        "steepest_descent_n([-1.5, 1, 1, 1, 1, 1, 1, 1, 1, 1], 20, log=True, is_alpha=True, alpha=0.1);"
      ],
      "execution_count": 0,
      "outputs": [
        {
          "output_type": "stream",
          "text": [
            "Starting point: x0=[-1.5, 1, 1, 1, 1, 1, 1, 1, 1, 1]\n",
            "Eps: 1e-06\n",
            "\n",
            "x,y,z=[-1.5  1.   1.   1.   1.   1.   1.   1.   1.   1. ], f=26.5625\n",
            "x,y,z=[1.625 1.5   1.    1.    1.    1.    1.    1.    1.    1.   ], f=2.66015625\n",
            "x,y,z=[-2.021875 -0.94375   1.5       1.        1.        1.        1.\n",
            "  1.        1.        1.      ], f=55.17250244140626\n",
            "x,y,z=[11.26284487  0.13759414 -1.64373437  1.5         1.          1.\n",
            "  1.          1.          1.          1.        ], f=466.2813787217812\n",
            "x,y,z=[-2.26493743e+03  5.05757180e+01  2.31094795e+00 -9.19254922e-01\n",
            "  1.50000000e+00  1.00000000e+00  1.00000000e+00  1.00000000e+00\n",
            "  1.00000000e+00  1.00000000e+00], f=21813872.39480116\n",
            "x,y,z=[ 1.85902991e+10  1.84516239e+06  1.00521282e+03  6.05154600e-01\n",
            " -1.66198816e+00  1.50000000e+00  1.00000000e+00  1.00000000e+00\n",
            "  1.00000000e+00  1.00000000e+00], f=1.4687967066846567e+21\n",
            "x,y,z=[-1.02796687e+31  1.28188353e+20  1.36022454e+12  4.04180735e+05\n",
            "  2.63812020e+00 -8.95118148e-01  1.50000000e+00  1.00000000e+00\n",
            "  1.00000000e+00  1.00000000e+00], f=4.491042485314017e+62\n",
            "x,y,z=[ 1.73803026e+93  3.88983574e+61  6.56887486e+39  7.40084215e+23\n",
            "  6.53448265e+10  1.22506260e+00 -1.67950540e+00  1.50000000e+00\n",
            "  1.00000000e+00  1.00000000e+00], f=1.2838183998295773e+187\n",
            "x,y,z=[-8.40024555e+279  1.11412941e+186  6.04779368e+122  1.72600461e+079\n",
            "  2.19089858e+047  1.70797854e+021  3.27760880e+000 -8.71704644e-001\n",
            "  1.50000000e+000  1.00000000e+000], f=inf\n",
            "x,y,z=[             nan              nan              nan  1.46303225e+245\n",
            "  1.19163677e+158  1.92001464e+094  1.16687628e+042  2.71612489e+000\n",
            " -1.69605241e+000  1.50000000e+000], f=nan\n",
            "x,y,z=[            nan             nan             nan             nan\n",
            "             nan             inf 1.47458249e+188 5.44640101e+083\n",
            " 5.80815306e+000 2.15063750e+000], f=nan\n",
            "x,y,z=[            nan             nan             nan             nan\n",
            "             nan             nan             nan             inf\n",
            " 1.18653136e+167 1.50143668e+001], f=nan\n",
            "x,y,z=[nan nan nan nan nan nan nan nan nan inf], f=nan\n",
            "x,y,z=[nan nan nan nan nan nan nan nan nan nan], f=nan\n",
            "x,y,z=[nan nan nan nan nan nan nan nan nan nan], f=nan\n",
            "x,y,z=[nan nan nan nan nan nan nan nan nan nan], f=nan\n",
            "x,y,z=[nan nan nan nan nan nan nan nan nan nan], f=nan\n",
            "x,y,z=[nan nan nan nan nan nan nan nan nan nan], f=nan\n",
            "x,y,z=[nan nan nan nan nan nan nan nan nan nan], f=nan\n",
            "\n",
            "Appr.min: nan at x*=[nan nan nan nan nan nan nan nan nan nan]\n",
            "Found after 19 iterations\n"
          ],
          "name": "stdout"
        },
        {
          "output_type": "stream",
          "text": [
            "/usr/local/lib/python3.6/dist-packages/ipykernel_launcher.py:2: RuntimeWarning: overflow encountered in double_scalars\n",
            "  \n",
            "/usr/local/lib/python3.6/dist-packages/ipykernel_launcher.py:2: RuntimeWarning: invalid value encountered in double_scalars\n",
            "  \n",
            "/usr/local/lib/python3.6/dist-packages/ipykernel_launcher.py:5: RuntimeWarning: overflow encountered in double_scalars\n",
            "  \"\"\"\n",
            "/usr/local/lib/python3.6/dist-packages/ipykernel_launcher.py:5: RuntimeWarning: invalid value encountered in double_scalars\n",
            "  \"\"\"\n",
            "/usr/local/lib/python3.6/dist-packages/ipykernel_launcher.py:6: RuntimeWarning: overflow encountered in double_scalars\n",
            "  \n"
          ],
          "name": "stderr"
        }
      ]
    },
    {
      "cell_type": "code",
      "metadata": {
        "colab_type": "code",
        "outputId": "e16e9a3c-5f5e-49db-b978-a234318ef554",
        "id": "s1X36XO_xFFe",
        "colab": {
          "base_uri": "https://localhost:8080/",
          "height": 702
        }
      },
      "source": [
        "steepest_descent_n([-1.5, 1, 1, 1, 1, 1, 1, 1, 1, 1], 10, log=True, is_alpha=True, alpha=0.5);"
      ],
      "execution_count": 0,
      "outputs": [
        {
          "output_type": "stream",
          "text": [
            "Starting point: x0=[-1.5, 1, 1, 1, 1, 1, 1, 1, 1, 1]\n",
            "Eps: 1e-06\n",
            "\n",
            "x,y,z=[-1.5  1.   1.   1.   1.   1.   1.   1.   1.   1. ], f=26.5625\n",
            "x,y,z=[14.125  3.5    1.     1.     1.     1.     1.     1.     1.     1.   ], f=757.12890625\n",
            "x,y,z=[-2.22801719e+04  8.30312500e+01  2.35000000e+01  1.00000000e+00\n",
            "  1.00000000e+00  1.00000000e+00  1.00000000e+00  1.00000000e+00\n",
            "  1.00000000e+00  1.00000000e+00], f=2109944583.277893\n",
            "x,y,z=[ 8.84800910e+13  9.88240789e+08 -8.98476230e+04  1.10350000e+03\n",
            "  1.00000000e+00  1.00000000e+00  1.00000000e+00  1.00000000e+00\n",
            "  1.00000000e+00  1.00000000e+00], f=3.3272087619940066e+28\n",
            "x,y,z=[-5.54149146e+42  7.93636837e+27  1.95904214e+18  5.39523582e+09\n",
            "  2.43542350e+06  1.00000000e+00  1.00000000e+00  1.00000000e+00\n",
            "  1.00000000e+00  1.00000000e+00], f=1.3050954238720888e+86\n",
            "x,y,z=[ 1.36135062e+129  5.74172181e+085  6.58238678e+055  7.67569097e+036\n",
            " -5.73444391e+019  1.18625752e+013  1.00000000e+000  1.00000000e+000\n",
            "  1.00000000e+000  1.00000000e+000], f=7.876420875051534e+258\n",
            "x,y,z=[            -inf  2.19223529e+258  6.59119226e+171  5.04778083e+111\n",
            "  1.17832464e+074 -6.77770896e+039  2.81441383e+026  1.00000000e+000\n",
            "  1.00000000e+000  1.00000000e+000], f=inf\n",
            "x,y,z=[             nan              nan              nan              nan\n",
            "  3.78718338e+223  2.77689790e+148 -8.64674143e+079  1.58418504e+053\n",
            "  1.00000000e+000  1.00000000e+000], f=nan\n",
            "x,y,z=[             nan              nan              nan              nan\n",
            "              nan              nan  1.54223239e+297 -1.68526742e+160\n",
            "  5.01928449e+106  1.00000000e+000], f=nan\n",
            "\n",
            "Appr.min: nan at x*=[             nan              nan              nan              nan\n",
            "              nan              nan  1.54223239e+297 -1.68526742e+160\n",
            "  5.01928449e+106  1.00000000e+000]\n",
            "Found after 9 iterations\n"
          ],
          "name": "stdout"
        },
        {
          "output_type": "stream",
          "text": [
            "/usr/local/lib/python3.6/dist-packages/ipykernel_launcher.py:2: RuntimeWarning: overflow encountered in double_scalars\n",
            "  \n",
            "/usr/local/lib/python3.6/dist-packages/ipykernel_launcher.py:2: RuntimeWarning: invalid value encountered in double_scalars\n",
            "  \n",
            "/usr/local/lib/python3.6/dist-packages/ipykernel_launcher.py:5: RuntimeWarning: overflow encountered in double_scalars\n",
            "  \"\"\"\n",
            "/usr/local/lib/python3.6/dist-packages/ipykernel_launcher.py:5: RuntimeWarning: invalid value encountered in double_scalars\n",
            "  \"\"\"\n"
          ],
          "name": "stderr"
        }
      ]
    },
    {
      "cell_type": "code",
      "metadata": {
        "colab_type": "code",
        "outputId": "bdfb667b-4404-49de-921e-954cbaa7e76c",
        "id": "DFmRpoMPxFFh",
        "colab": {
          "base_uri": "https://localhost:8080/",
          "height": 702
        }
      },
      "source": [
        "steepest_descent_n([-1.5, 1, 1, 1, 1, 1, 1, 1, 1, 1], 10, log=True, is_alpha=True, alpha=1.0);"
      ],
      "execution_count": 0,
      "outputs": [
        {
          "output_type": "stream",
          "text": [
            "Starting point: x0=[-1.5, 1, 1, 1, 1, 1, 1, 1, 1, 1]\n",
            "Eps: 1e-06\n",
            "\n",
            "x,y,z=[-1.5  1.   1.   1.   1.   1.   1.   1.   1.   1. ], f=26.5625\n",
            "x,y,z=[29.75  6.    1.    1.    1.    1.    1.    1.    1.    1.  ], f=3612.890625\n",
            "x,y,z=[-4.19608375e+05  1.72250000e+02  1.41000000e+02  1.00000000e+00\n",
            "  1.00000000e+00  1.00000000e+00  1.00000000e+00  1.00000000e+00\n",
            "  1.00000000e+00  1.00000000e+00], f=748306332554.7852\n",
            "x,y,z=[ 1.18209512e+18  7.04203178e+11 -4.47307428e+07  7.95210000e+04\n",
            "  1.00000000e+00  1.00000000e+00  1.00000000e+00  1.00000000e+00\n",
            "  1.00000000e+00  1.00000000e+00], f=5.938732741240076e+36\n",
            "x,y,z=[-2.64287887e+55  1.94197830e+33  3.41559295e+24 -4.23731059e+13\n",
            "  2.52943578e+10  1.00000000e+00  1.00000000e+00  1.00000000e+00\n",
            "  1.00000000e+00  1.00000000e+00], f=2.9685437175983116e+111\n",
            "x,y,z=[ 2.95360056e+167  2.79392350e+111 -6.37555940e+074  4.66651019e+049\n",
            " -2.58927935e+032  2.55921814e+021  1.00000000e+000  1.00000000e+000\n",
            "  1.00000000e+000  1.00000000e+000], f=inf\n",
            "x,y,z=[            -inf              nan  4.17765914e+225 -2.04178773e+143\n",
            "  8.98827864e+099 -1.48770049e+061  2.61983899e+043  1.00000000e+000\n",
            "  1.00000000e+000  1.00000000e+000], f=nan\n",
            "x,y,z=[             nan              nan              nan              inf\n",
            " -1.16184867e+301  3.23156612e+200 -2.87702599e+131  2.74542254e+087\n",
            "  1.00000000e+000  1.00000000e+000], f=nan\n",
            "x,y,z=[             nan              nan              nan              nan\n",
            "              nan              nan              inf -2.03762736e+255\n",
            "  3.01493796e+175  1.00000000e+000], f=nan\n",
            "\n",
            "Appr.min: nan at x*=[             nan              nan              nan              nan\n",
            "              nan              nan              inf -2.03762736e+255\n",
            "  3.01493796e+175  1.00000000e+000]\n",
            "Found after 9 iterations\n"
          ],
          "name": "stdout"
        },
        {
          "output_type": "stream",
          "text": [
            "/usr/local/lib/python3.6/dist-packages/ipykernel_launcher.py:2: RuntimeWarning: overflow encountered in double_scalars\n",
            "  \n",
            "/usr/local/lib/python3.6/dist-packages/ipykernel_launcher.py:5: RuntimeWarning: overflow encountered in double_scalars\n",
            "  \"\"\"\n",
            "/usr/local/lib/python3.6/dist-packages/ipykernel_launcher.py:5: RuntimeWarning: invalid value encountered in double_scalars\n",
            "  \"\"\"\n",
            "/usr/local/lib/python3.6/dist-packages/ipykernel_launcher.py:6: RuntimeWarning: overflow encountered in double_scalars\n",
            "  \n"
          ],
          "name": "stderr"
        }
      ]
    },
    {
      "cell_type": "markdown",
      "metadata": {
        "colab_type": "text",
        "id": "K25ir6CtxFFk"
      },
      "source": [
        "####3. The algorithms with $\\alpha = 0.1, 0.5, 1.0$ do not converge, too big step sizes"
      ]
    },
    {
      "cell_type": "code",
      "metadata": {
        "colab_type": "code",
        "outputId": "d6f2c0ba-8a9e-4d9e-e2cf-78ad045cb9f2",
        "id": "LijZDNDQxFFn",
        "colab": {
          "base_uri": "https://localhost:8080/",
          "height": 140
        }
      },
      "source": [
        "steepest_descent_n([-1.5, 1, 1, 1, 1, 1, 1, 1, 1, 1], 10000);"
      ],
      "execution_count": 0,
      "outputs": [
        {
          "output_type": "stream",
          "text": [
            "Starting point: x0=[-1.5, 1, 1, 1, 1, 1, 1, 1, 1, 1]\n",
            "Eps: 1e-06\n",
            "\n",
            "\n",
            "Appr.min: 4.906173870762485e-11 at x*=[1.00000053 1.00000082 1.00000108 1.00000106 1.00000106 1.00000082\n",
            " 1.00000071 1.00000059 1.00000108 1.0000036 ]\n",
            "Found after 15 iterations\n"
          ],
          "name": "stdout"
        }
      ]
    },
    {
      "cell_type": "markdown",
      "metadata": {
        "id": "s92xWyoByZdE",
        "colab_type": "text"
      },
      "source": [
        "I used scipy.minimize_scalar for  α  choosing. It took 15 iterations to converge."
      ]
    }
  ]
}