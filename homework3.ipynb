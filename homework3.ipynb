{
  "nbformat": 4,
  "nbformat_minor": 0,
  "metadata": {
    "colab": {
      "name": "Mironova_opt_hw3.ipynb",
      "provenance": [],
      "collapsed_sections": []
    },
    "kernelspec": {
      "name": "python3",
      "display_name": "Python 3"
    }
  },
  "cells": [
    {
      "cell_type": "markdown",
      "metadata": {
        "id": "LZu9DPduq_wE",
        "colab_type": "text"
      },
      "source": [
        "###Question 10"
      ]
    },
    {
      "cell_type": "code",
      "metadata": {
        "id": "-vI38YViq-uL",
        "colab_type": "code",
        "colab": {}
      },
      "source": [
        "import numpy as np\n",
        "import matplotlib.pyplot as plt\n",
        "from numpy.linalg import pinv\n",
        "import scipy.optimize"
      ],
      "execution_count": 0,
      "outputs": []
    },
    {
      "cell_type": "markdown",
      "metadata": {
        "id": "PK6Lk57CtdnS",
        "colab_type": "text"
      },
      "source": [
        "####a) Newton method"
      ]
    },
    {
      "cell_type": "code",
      "metadata": {
        "id": "GQjPkXhbrf_G",
        "colab_type": "code",
        "colab": {}
      },
      "source": [
        "def f(point):\n",
        "  x, y = point.T\n",
        "  return 100*(y - x**2)**2 + (1 - x)**2\n",
        "\n",
        "def df(point):\n",
        "  x, y = point.T\n",
        "  return np.array([2*(200*x**3 - 200*x*y + x - 1), 200*(y - x**2)])\n",
        "\n",
        "def df2(point):\n",
        "  x, y = point.T\n",
        "  return np.array([[1200*x**2 - 400*y + 2, -200*x], [-200*x, 200]])"
      ],
      "execution_count": 0,
      "outputs": []
    },
    {
      "cell_type": "code",
      "metadata": {
        "id": "y_RZoE1PjC_S",
        "colab_type": "code",
        "colab": {}
      },
      "source": [
        "def plot_function(func, N=100, lims=(-1, 10.5), figsize=(8, 8)):\n",
        "    xlist = np.linspace(*lims, N+1)\n",
        "    ylist = np.linspace(*lims, N+1)\n",
        "    x, y = np.meshgrid(xlist, ylist)\n",
        "    plt.figure(figsize=figsize)\n",
        "    xy = np.hstack((x.reshape(-1, 1), y.reshape(-1, 1)))\n",
        "    f1 = func(xy).reshape(N+1, N+1)\n",
        "    plt.contourf(x, y, f1)\n",
        "    plt.title(r'$f = x^2 + xy + 10y^2 - 22y - 5x$')\n",
        "    plt.xlabel(r'$x$')\n",
        "    plt.ylabel(r'$y$')\n",
        "    plt.grid(True)"
      ],
      "execution_count": 0,
      "outputs": []
    },
    {
      "cell_type": "code",
      "metadata": {
        "id": "S_WxesYGq9Us",
        "colab_type": "code",
        "colab": {}
      },
      "source": [
        "def newton(f, df, df2, x0, iters=1000, eps=1e-2, plot=False):\n",
        "    if plot: plot_function(f, lims=(-2, 5))\n",
        "\n",
        "    u = np.empty((iters, len(x0)))\n",
        "    df_t = np.empty((iters-1, len(x0)))\n",
        "    df2_t = np.empty((iters-1, len(x0), len(x0)))\n",
        "    u[0] = x0\n",
        "\n",
        "    for t in range(1, iters):\n",
        "        df_t[t-1] = df(u[t-1])\n",
        "        df2_t[t-1] = df2(u[t-1])\n",
        "        if np.linalg.norm(df_t[t-1]) < eps:  break\n",
        "\n",
        "        u[t] = u[t-1] - pinv(df2_t[t-1])@df_t[t-1]\n",
        "\n",
        "    print ('Starting point: x0={}'.format(x0))\n",
        "    print ('Eps: {}\\n'.format(eps))\n",
        "\n",
        "    if plot:\n",
        "      scale = 5\n",
        "      plt.plot(u[:t, 0], u[:t, 1], \"ro\")\n",
        "      for tt in range(t):\n",
        "          plt.arrow(*u[tt], *(-pinv(df2_t[tt])@df_t[tt]/scale), head_width=0.03, ec=\"r\", fc=\"r\")\n",
        "\n",
        "    print ('Appr.min: {} at x*={}'.format(f(u[t-1]), u[t-1]))\n",
        "    print ('Found after {} iterations'.format(t))\n",
        "    return u[t-1], f(u[t-1]), t"
      ],
      "execution_count": 0,
      "outputs": []
    },
    {
      "cell_type": "code",
      "metadata": {
        "id": "E8Kf8Npjrc0S",
        "colab_type": "code",
        "outputId": "0499b5e1-902d-48f7-9674-744e20bde658",
        "colab": {
          "base_uri": "https://localhost:8080/",
          "height": 605
        }
      },
      "source": [
        "newton(f, df, df2, [0, 0], 1000, plot=True);"
      ],
      "execution_count": 5,
      "outputs": [
        {
          "output_type": "stream",
          "text": [
            "Starting point: x0=[0, 0]\n",
            "Eps: 0.01\n",
            "\n",
            "Appr.min: 8.073105462476392e-05 at x*=[0.99101781 0.98209365]\n",
            "Found after 999 iterations\n"
          ],
          "name": "stdout"
        },
        {
          "output_type": "display_data",
          "data": {
            "image/png": "[encoded data removed]",
            "text/plain": [
              "<Figure size 576x576 with 1 Axes>"
            ]
          },
          "metadata": {
            "tags": []
          }
        }
      ]
    },
    {
      "cell_type": "markdown",
      "metadata": {
        "id": "QnGMgpw8s9pR",
        "colab_type": "text"
      },
      "source": [
        "####b) BFGS quasi-Newton method\n",
        "\n"
      ]
    },
    {
      "cell_type": "code",
      "metadata": {
        "id": "wzgyHNMX4BAa",
        "colab_type": "code",
        "colab": {}
      },
      "source": [
        "def backtracking_line_search(f, df, xk, pk):\n",
        "    alpha, koeff, c = 2, 2, 0.1\n",
        "    # Wolfe conditions (sufficient decrease and curvative) \n",
        "    while not (f(xk) + (1 - c)*alpha*df(xk)@pk <= f(xk + alpha*pk) and f(xk + alpha*pk) <= f(xk) + c*alpha*df(xk)@pk):\n",
        "      alpha /= koeff\n",
        "    return alpha"
      ],
      "execution_count": 0,
      "outputs": []
    },
    {
      "cell_type": "code",
      "metadata": {
        "id": "0JtPbBnMrVjo",
        "colab_type": "code",
        "colab": {}
      },
      "source": [
        "def bfgs(f, df, x0, iters=1000, eps=10e-3, plot=False):\n",
        "    if plot:  plot_function(f, lims=(-0.5, 1.5))\n",
        "\n",
        "    u = np.empty((iters, len(x0)))\n",
        "    pk = np.empty((iters-1, len(x0)))\n",
        "    alpha_k = np.empty((iters-1, len(x0)))\n",
        "    df_t = np.empty((iters-1, len(x0)))\n",
        "    u[0] = x0\n",
        "\n",
        "    gfk = df(u[0])\n",
        "    I = np.eye(len(u[0]), dtype=int)\n",
        "    Hk = I\n",
        "   \n",
        "    for t in range(1, iters):\n",
        "        pk[t-1] = -np.dot(Hk, gfk)\n",
        "\n",
        "        #line_search = scipy.optimize.line_search(f, df, u[t-1], pk[t-1])\n",
        "        #alpha_k[t-1] = line_search[0]\n",
        "\n",
        "        line_search = backtracking_line_search(f, df, u[t-1], pk[t-1])\n",
        "        alpha_k[t-1] = line_search\n",
        "        \n",
        "        xkp1 = u[t-1] + alpha_k[t-1] * pk[t-1]\n",
        "        sk = xkp1 - u[t-1]\n",
        "        u[t] = xkp1\n",
        "        \n",
        "        gfkp1 = df(xkp1)\n",
        "        yk = gfkp1 - gfk\n",
        "        gfk = gfkp1\n",
        "\n",
        "        if np.linalg.norm(gfk) < eps and gfk.T@u[t-1] > 0:  break\n",
        "        \n",
        "        ro = 1.0 / (np.dot(yk, sk))\n",
        "        A1 = I - ro * sk[:, np.newaxis] * yk[np.newaxis, :]\n",
        "        A2 = I - ro * yk[:, np.newaxis] * sk[np.newaxis, :]\n",
        "        Hk = np.dot(A1, np.dot(Hk, A2)) + (ro * sk[:, np.newaxis] * sk[np.newaxis, :])\n",
        "\n",
        "    print ('Starting point: x0={}'.format(x0))\n",
        "    print ('Eps: {}\\n'.format(eps))\n",
        "\n",
        "    if plot:\n",
        "      scale = 5\n",
        "      plt.plot(u[:t, 0], u[:t, 1], \"ro\")\n",
        "      for tt in range(t):\n",
        "          plt.arrow(*u[tt], *(alpha_k[tt]*pk[tt]/scale), head_width=0.03, ec=\"r\", fc=\"r\")\n",
        "\n",
        "    print ('Appr.min: {} at x*={}'.format(f(u[t-1]), u[t-1]))\n",
        "    print ('Found after {} iterations'.format(t))\n",
        "    return (u[t-1], t)"
      ],
      "execution_count": 0,
      "outputs": []
    },
    {
      "cell_type": "code",
      "metadata": {
        "id": "tIuCHMPO2oxM",
        "colab_type": "code",
        "outputId": "88ff22c7-ca56-4382-8a6e-745b906c92d0",
        "colab": {
          "base_uri": "https://localhost:8080/",
          "height": 605
        }
      },
      "source": [
        "bfgs(f, df, [0, 0], 1000, plot=True);"
      ],
      "execution_count": 8,
      "outputs": [
        {
          "output_type": "stream",
          "text": [
            "Starting point: x0=[0, 0]\n",
            "Eps: 0.01\n",
            "\n",
            "Appr.min: 2.0194103254492851e-07 at x*=[0.99960584 0.99923342]\n",
            "Found after 19 iterations\n"
          ],
          "name": "stdout"
        },
        {
          "output_type": "display_data",
          "data": {
            "image/png": "[encoded data removed]",
            "text/plain": [
              "<Figure size 576x576 with 1 Axes>"
            ]
          },
          "metadata": {
            "tags": []
          }
        }
      ]
    },
    {
      "cell_type": "markdown",
      "metadata": {
        "id": "dpDqS-Dx_Uwo",
        "colab_type": "text"
      },
      "source": [
        "###Question 11"
      ]
    },
    {
      "cell_type": "markdown",
      "metadata": {
        "id": "NvtDQNpKzgQ0",
        "colab_type": "text"
      },
      "source": [
        "####n = 2:"
      ]
    },
    {
      "cell_type": "code",
      "metadata": {
        "id": "KyFHcEyeuuVn",
        "colab_type": "code",
        "colab": {}
      },
      "source": [
        "n = 2"
      ],
      "execution_count": 0,
      "outputs": []
    },
    {
      "cell_type": "code",
      "metadata": {
        "id": "xtyViy4PuhJb",
        "colab_type": "code",
        "colab": {}
      },
      "source": [
        "a = np.vstack((np.random.rand(n+1, n), np.ones(n), -np.eye(n)))\n",
        "b = np.r_[np.random.rand(n+1)+1, [1], np.zeros(n)][:, None]\n",
        "c = np.random.rand(n, 1)"
      ],
      "execution_count": 0,
      "outputs": []
    },
    {
      "cell_type": "code",
      "metadata": {
        "id": "EW-BojT2vm8I",
        "colab_type": "code",
        "outputId": "c8b648e7-1bd5-4ade-d57c-02c6b70cf079",
        "colab": {
          "base_uri": "https://localhost:8080/",
          "height": 228
        }
      },
      "source": [
        "a, b, c"
      ],
      "execution_count": 12,
      "outputs": [
        {
          "output_type": "execute_result",
          "data": {
            "text/plain": [
              "(array([[ 0.10855882,  0.56233531],\n",
              "        [ 0.77032296,  0.51086641],\n",
              "        [ 0.20094523,  0.22361643],\n",
              "        [ 1.        ,  1.        ],\n",
              "        [-1.        , -0.        ],\n",
              "        [-0.        , -1.        ]]), array([[1.74195451],\n",
              "        [1.88194891],\n",
              "        [1.16845301],\n",
              "        [1.        ],\n",
              "        [0.        ],\n",
              "        [0.        ]]), array([[0.98529428],\n",
              "        [0.82764358]]))"
            ]
          },
          "metadata": {
            "tags": []
          },
          "execution_count": 12
        }
      ]
    },
    {
      "cell_type": "code",
      "metadata": {
        "id": "8sl4D5AS3J7c",
        "colab_type": "code",
        "colab": {}
      },
      "source": [
        "def f_n(x):\n",
        "  d = b - a@x\n",
        "  # print(d)\n",
        "  dflag = d > 0\n",
        "  d[dflag] = np.log(d[dflag])\n",
        "  d[~dflag] = -1e9\n",
        "  # print(d)\n",
        "  return c.T@x - np.sum(d)"
      ],
      "execution_count": 0,
      "outputs": []
    },
    {
      "cell_type": "code",
      "metadata": {
        "id": "jIVDMS5tArBf",
        "colab_type": "code",
        "colab": {}
      },
      "source": [
        "def df_n(x):\n",
        "  d = b - a@x.T\n",
        "  d = a / d\n",
        "  return c.T + np.sum(d, axis=0)"
      ],
      "execution_count": 0,
      "outputs": []
    },
    {
      "cell_type": "code",
      "metadata": {
        "id": "jmR9ltPOmzRE",
        "colab_type": "code",
        "colab": {}
      },
      "source": [
        "def df2_n(x):\n",
        "  d = b - a@x.T\n",
        "  d = a / d\n",
        "  return d.T@d"
      ],
      "execution_count": 0,
      "outputs": []
    },
    {
      "cell_type": "code",
      "metadata": {
        "id": "-Dlem4RVZzHJ",
        "colab_type": "code",
        "colab": {}
      },
      "source": [
        "def plot_function2(func, N=10, lims=(1e-3, 10), figsize=(8, 8), constaraints=None):\n",
        "    xlist = np.linspace(*lims, N+1)\n",
        "    ylist = np.linspace(*lims, N+1)\n",
        "    x, y = np.meshgrid(xlist, ylist)\n",
        "    plt.figure(figsize=figsize)\n",
        "    xy = np.vstack((x.reshape(-1), y.reshape(-1)))\n",
        "    f1 = func(xy).reshape(N+1, N+1)\n",
        "    plt.contourf(x, y, f1)\n",
        "    if constaraints is not None:\n",
        "      for i, (ai, bi) in enumerate(zip(*constaraints)):\n",
        "        yy = (bi - ai[0] * xlist) / ai[1]\n",
        "        plt.plot(xlist, yy, \"--\", lw=2, label=str(i))\n",
        "\n",
        "    plt.xlabel(r'$x$')\n",
        "    plt.ylabel(r'$y$')\n",
        "    plt.grid(True)\n",
        "    plt.xlim(*lims)\n",
        "    plt.ylim(*lims)\n",
        "    plt.legend()\n",
        "\n",
        "def newton11(f, df, df2, x0, iters=1000, eps=1e-2, plot=False, constaraints=None):\n",
        "    if plot: plot_function2(f, lims=(1e-2, 5), constaraints=constaraints)\n",
        "\n",
        "    x_size = x0.size\n",
        "    u = np.empty((iters, x_size))\n",
        "    df_t = np.empty((iters-1, x_size))\n",
        "    df2_t = np.empty((iters-1, x_size, x_size))\n",
        "    u[0] = x0\n",
        "\n",
        "    for t in range(1, iters):\n",
        "        df_t[t-1] = df(u[t-1][None])\n",
        "        df2_t[t-1] = df2(u[t-1][None])\n",
        "        if np.linalg.norm(df_t[t-1]) < eps:  break\n",
        "\n",
        "        u[t] = u[t-1] - pinv(df2_t[t-1])@df_t[t-1]\n",
        "\n",
        "    print ('Starting point: x0={}'.format(x0))\n",
        "    print ('Eps: {}\\n'.format(eps))\n",
        "\n",
        "    if plot:\n",
        "      scale = 5\n",
        "      plt.plot(u[:t, 0], u[:t, 1], \"ro\")\n",
        "      for tt in range(t):\n",
        "          plt.arrow(*u[tt], *(-pinv(df2_t[tt])@df_t[tt]/scale), head_width=0.03, ec=\"r\", fc=\"r\")\n",
        "\n",
        "    print ('Appr.min: {} at x*={}'.format(f(u[t-1]), u[t-1]))\n",
        "    print ('Found after {} iterations'.format(t))\n",
        "    return u[t-1], f(u[t-1]), t"
      ],
      "execution_count": 0,
      "outputs": []
    },
    {
      "cell_type": "markdown",
      "metadata": {
        "id": "p-waAIG0zixs",
        "colab_type": "text"
      },
      "source": [
        "####Newton:"
      ]
    },
    {
      "cell_type": "code",
      "metadata": {
        "id": "JTjyk1qRnQkX",
        "colab_type": "code",
        "outputId": "029229d8-ff64-47e1-d8b5-2707f46bedc6",
        "colab": {
          "base_uri": "https://localhost:8080/",
          "height": 606
        }
      },
      "source": [
        "newton11(f_n, df_n, df2_n, np.array([1, 1.5]), 1000, plot=True, constaraints=(a[:n+2], b[:n+2]))"
      ],
      "execution_count": 25,
      "outputs": [
        {
          "output_type": "stream",
          "text": [
            "Starting point: x0=[1.  1.5]\n",
            "Eps: 0.01\n",
            "\n",
            "Appr.min: [1.2e+10] at x*=[0.87113595 0.9347451 ]\n",
            "Found after 4 iterations\n"
          ],
          "name": "stdout"
        },
        {
          "output_type": "execute_result",
          "data": {
            "text/plain": [
              "(array([0.87113595, 0.9347451 ]), array([1.2e+10]), 4)"
            ]
          },
          "metadata": {
            "tags": []
          },
          "execution_count": 25
        },
        {
          "output_type": "display_data",
          "data": {
            "image/png": "[encoded data removed]",
            "text/plain": [
              "<Figure size 576x576 with 1 Axes>"
            ]
          },
          "metadata": {
            "tags": []
          }
        }
      ]
    },
    {
      "cell_type": "code",
      "metadata": {
        "id": "miq0IVD4tbAB",
        "colab_type": "code",
        "colab": {}
      },
      "source": [
        "#bfgs(f_n, df_n, np.array([1, 1.5]), 1000, plot=False);"
      ],
      "execution_count": 0,
      "outputs": []
    },
    {
      "cell_type": "markdown",
      "metadata": {
        "id": "ugEt5UHTzbbn",
        "colab_type": "text"
      },
      "source": [
        "####n = 10:"
      ]
    },
    {
      "cell_type": "code",
      "metadata": {
        "id": "xo-RbiL4zEdv",
        "colab_type": "code",
        "colab": {}
      },
      "source": [
        "n = 10"
      ],
      "execution_count": 0,
      "outputs": []
    },
    {
      "cell_type": "code",
      "metadata": {
        "id": "nH-3vt1TzLXw",
        "colab_type": "code",
        "colab": {}
      },
      "source": [
        "a = np.vstack((np.random.rand(n+1, n), np.ones(n), -np.eye(n)))\n",
        "b = np.r_[np.random.rand(n+1)+1, [1], np.zeros(n)][:, None]\n",
        "c = np.random.rand(n, 1)"
      ],
      "execution_count": 0,
      "outputs": []
    },
    {
      "cell_type": "markdown",
      "metadata": {
        "id": "aZElpBfwzlXc",
        "colab_type": "text"
      },
      "source": [
        "####Newton:"
      ]
    },
    {
      "cell_type": "code",
      "metadata": {
        "id": "2tuPmhNEzMfK",
        "colab_type": "code",
        "colab": {
          "base_uri": "https://localhost:8080/",
          "height": 175
        },
        "outputId": "5b241235-e4ba-4042-8ed9-486a8ca49d8a"
      },
      "source": [
        "newton11(f_n, df_n, df2_n, np.array([1, 1, 1, 1, 1, 1, 1, 1, 1, 1]), 1000, plot=False, constaraints=(a[:n+2], b[:n+2]))"
      ],
      "execution_count": 32,
      "outputs": [
        {
          "output_type": "stream",
          "text": [
            "Starting point: x0=[1 1 1 1 1 1 1 1 1 1]\n",
            "Eps: 0.01\n",
            "\n",
            "Appr.min: [2.64e+11] at x*=[  1.79737385   2.34587065 647.99507812   2.27720384   6.96703881\n",
            "   1.75221877   4.76743643   2.17152314   1.9508799    2.14098181]\n",
            "Found after 10 iterations\n"
          ],
          "name": "stdout"
        },
        {
          "output_type": "execute_result",
          "data": {
            "text/plain": [
              "(array([  1.79737385,   2.34587065, 647.99507812,   2.27720384,\n",
              "          6.96703881,   1.75221877,   4.76743643,   2.17152314,\n",
              "          1.9508799 ,   2.14098181]), array([2.64e+11]), 10)"
            ]
          },
          "metadata": {
            "tags": []
          },
          "execution_count": 32
        }
      ]
    }
  ]
}